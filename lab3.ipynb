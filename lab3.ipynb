{
 "cells": [
  {
   "cell_type": "markdown",
   "metadata": {},
   "source": [
    "1.Cree un procedimiento en Python dado un n´umero entero en decimal despliegue su represen\u0002taci´on en n´umero binario."
   ]
  },
  {
   "cell_type": "code",
   "execution_count": 1,
   "metadata": {},
   "outputs": [
    {
     "name": "stdout",
     "output_type": "stream",
     "text": [
      "La representación binaria de 10 es: 1010\n"
     ]
    }
   ],
   "source": [
    "def decimal_a_binario(numero):\n",
    "    if numero == 0:\n",
    "        return \"0\"  # Si el número es 0, su representación binaria es \"0\"\n",
    "    \n",
    "    binario = \"\"  # Aquí almacenaremos los residuos\n",
    "    while numero > 0: #aca es 0, pq cuando el residuo es 0 es que debe de parar. La idea es que el bucle siga dividiendo el número entre 2 hasta que el número se reduzca a 0. Cuando el número sea 0, significa que ya no hay más divisiones que hacer y el proceso de conversión ha terminado.\n",
    "        residuo = numero % 2  # Obtenemos el residuo de la división entre 2\n",
    "        binario = str(residuo) + binario  #Convertimos el residuo a una cadena de texto (str(residuo)) y lo concatenamos al inicio de la cadena binario.\n",
    "        numero = numero // 2  # Actualizamos el número dividiéndolo entre 2\n",
    "    \n",
    "    return binario  # Devolvemos la cadena con la representación binaria\n",
    "\n",
    "# Ejemplo de uso\n",
    "numero_decimal = int(input(\"Ingrese un número entero en decimal: \"))\n",
    "representacion_binaria = decimal_a_binario(numero_decimal)\n",
    "print(f\"La representación binaria de {numero_decimal} es: {representacion_binaria}\")"
   ]
  },
  {
   "cell_type": "markdown",
   "metadata": {},
   "source": [
    "2. Desarrolle en Python una funci´on que devuelva verdadero si un n´umero entero que recibe\n",
    "como par´ametro es primo y devuelva falso en el caso contrario."
   ]
  },
  {
   "cell_type": "code",
   "execution_count": 3,
   "metadata": {},
   "outputs": [
    {
     "name": "stdout",
     "output_type": "stream",
     "text": [
      "4 no es un número primo.\n"
     ]
    }
   ],
   "source": [
    "def es_primo(numero):\n",
    "    # Si el número es menor o igual a 1, no es primo\n",
    "    if numero <= 1:\n",
    "        return False\n",
    "    \n",
    "    # Si el número es 2, es primo\n",
    "    if numero == 2:\n",
    "        return True\n",
    "    \n",
    "    # Si el número es par y mayor que 2, no es primo\n",
    "    if numero % 2 == 0:\n",
    "        return False\n",
    "    \n",
    "    # Verificamos divisibilidad desde 3 hasta la raíz cuadrada del número\n",
    "    for i in range(3, int(numero**0.5) + 1, 2):\n",
    "        if numero % i == 0:\n",
    "            return False\n",
    "    \n",
    "    # Si no se encontraron divisores, el número es primo\n",
    "    return True\n",
    "\n",
    "# Ejemplo de uso\n",
    "numero = int(input(\"Ingrese un número entero: \"))\n",
    "if es_primo(numero):\n",
    "    print(f\"{numero} es un número primo.\")\n",
    "else:\n",
    "    print(f\"{numero} no es un número primo.\")"
   ]
  },
  {
   "cell_type": "markdown",
   "metadata": {},
   "source": [
    "3. Haga un programa en Python que dada una lista de n n´umeros, calcule la desviaci´on est´andar\n",
    "del conjunto de n´umeros, para este ejercicio no puede utilizar ninguna funci´on que resuelva\n",
    "el problema."
   ]
  },
  {
   "cell_type": "code",
   "execution_count": null,
   "metadata": {},
   "outputs": [],
   "source": [
    "import math\n",
    "\n",
    "def calcular_media(lista):\n",
    "    # Calcula la media (promedio) de la lista\n",
    "    return sum(lista) / len(lista)\n",
    "\n",
    "def calcular_desviacion_estandar(lista):\n",
    "    N = len(lista)  # Número de elementos en la lista\n",
    "    media = calcular_media(lista)  # Calcula la media\n",
    "    \n",
    "    # Calcula la suma de las diferencias al cuadrado\n",
    "    suma_cuadrados = 0\n",
    "    for numero in lista:\n",
    "        suma_cuadrados += (numero - media) ** 2\n",
    "    \n",
    "    # Calcula la varianza\n",
    "    varianza = suma_cuadrados / N\n",
    "    \n",
    "    # Calcula la desviación estándar\n",
    "    desviacion_estandar = math.sqrt(varianza)\n",
    "    \n",
    "    return desviacion_estandar\n"
   ]
  },
  {
   "cell_type": "markdown",
   "metadata": {},
   "source": [
    "4. Desarrolle en Python una funci´on que dado un arreglo de corra el algoritmo de ordenamiento\n",
    "burbuja y devuelva un nuevo arreglo ordenado. Posteriormente cree una funci´on main para\n",
    "probar su funci´on"
   ]
  },
  {
   "cell_type": "code",
   "execution_count": 4,
   "metadata": {},
   "outputs": [
    {
     "name": "stdout",
     "output_type": "stream",
     "text": [
      "Arreglo original: [64, 34, 25, 12, 22, 11, 90]\n",
      "Arreglo ordenado: [11, 12, 22, 25, 34, 64, 90]\n"
     ]
    }
   ],
   "source": [
    "def ordenamiento_burbuja(arreglo):\n",
    "    # Obtenemos la longitud del arreglo\n",
    "    n = len(arreglo)\n",
    "    \n",
    "    # Recorremos el arreglo n-1 veces\n",
    "    for i in range(n - 1):\n",
    "        # Recorremos el arreglo desde el inicio hasta n-i-1\n",
    "        for j in range(n - i - 1):\n",
    "            # Si el elemento actual es mayor que el siguiente, los intercambiamos\n",
    "            if arreglo[j] > arreglo[j + 1]:\n",
    "                arreglo[j], arreglo[j + 1] = arreglo[j + 1], arreglo[j]\n",
    "    \n",
    "    # Devolvemos el arreglo ordenado\n",
    "    return arreglo\n",
    "\n",
    "def main():\n",
    "    # Arreglo de ejemplo\n",
    "    arreglo = [64, 34, 25, 12, 22, 11, 90]\n",
    "    \n",
    "    # Mostramos el arreglo original\n",
    "    print(\"Arreglo original:\", arreglo)\n",
    "    \n",
    "    # Ordenamos el arreglo usando el algoritmo de burbuja\n",
    "    arreglo_ordenado = ordenamiento_burbuja(arreglo)\n",
    "    \n",
    "    # Mostramos el arreglo ordenado\n",
    "    print(\"Arreglo ordenado:\", arreglo_ordenado)\n",
    "\n",
    "# Llamamos a la función main para ejecutar el programa\n",
    "if __name__ == \"__main__\":\n",
    "    main()"
   ]
  },
  {
   "cell_type": "markdown",
   "metadata": {},
   "source": [
    "def tupla_a_string(tupla):\n",
    "    # Convertimos cada elemento de la tupla a string y los concatenamos\n",
    "    resultado = \"\".join(str(elemento) for elemento in tupla)\n",
    "    return resultado\n",
    "\n",
    "# Ejemplo de uso\n",
    "tupla_ejemplo = (10, 20, 40, 5, 70)\n",
    "cadena_resultante = tupla_a_string(tupla_ejemplo)\n",
    "print(\"La cadena resultante es:\", cadena_resultante)"
   ]
  },
  {
   "cell_type": "code",
   "execution_count": 5,
   "metadata": {},
   "outputs": [
    {
     "name": "stdout",
     "output_type": "stream",
     "text": [
      "La cadena resultante es: 102040570\n"
     ]
    }
   ],
   "source": [
    "def tupla_a_string(tupla):\n",
    "    # Convertimos cada elemento de la tupla a string y los concatenamos\n",
    "    resultado = \"\".join(str(elemento) for elemento in tupla)\n",
    "    return resultado\n",
    "\n",
    "# Ejemplo de uso\n",
    "tupla_ejemplo = (10, 20, 40, 5, 70)\n",
    "cadena_resultante = tupla_a_string(tupla_ejemplo)\n",
    "print(\"La cadena resultante es:\", cadena_resultante)"
   ]
  },
  {
   "cell_type": "markdown",
   "metadata": {},
   "source": [
    "6.Cree un programa en Python que dada una lista de tuplas, elimine las tuplas que est´an vac´ıas.\n",
    "Tomar nota del siguiente ejemplo:\n",
    "Si la lista fuera: [(), (), (’X’,), (’a’, ’b’), (’a’, ’b’, ’c’), (’d’)]\n",
    "El resultado deber´ıa ser: [(’X’), (’a’, ’b’), (’a’, ’b’, ’c’), ’d’]"
   ]
  },
  {
   "cell_type": "code",
   "execution_count": 6,
   "metadata": {},
   "outputs": [
    {
     "name": "stdout",
     "output_type": "stream",
     "text": [
      "Lista filtrada: [('X',), ('a', 'b'), ('a', 'b', 'c'), 'd']\n"
     ]
    }
   ],
   "source": [
    "def eliminar_tuplas_vacias(lista_tuplas):\n",
    "    # Usamos una comprensión de listas para filtrar las tuplas no vacías\n",
    "    lista_filtrada = [\n",
    "        tupla  # Esto es la expresión que define qué se incluirá en la nueva lista SI EL IF SALE TRUE \n",
    "        for tupla in lista_tuplas  # Recorremos cada elemento de la lista original\n",
    "        if tupla  # Evaluamos si la tupla no está vacía\n",
    "                  # Si está vacía (()), se evalúa como False y no se incluye.\n",
    "                  # Si no está vacía (por ejemplo, ('X',)), se evalúa como True y se incluye.\n",
    "    ]\n",
    "    return lista_filtrada  # Devolvemos la lista filtrada\n",
    "\n",
    "# Ejemplo de uso\n",
    "lista_tuplas = [(), (), ('X',), ('a', 'b'), ('a', 'b', 'c'), ('d')]\n",
    "lista_filtrada = eliminar_tuplas_vacias(lista_tuplas)\n",
    "print(\"Lista filtrada:\", lista_filtrada)"
   ]
  },
  {
   "cell_type": "markdown",
   "metadata": {},
   "source": [
    "7. Cree una funci´on en Python que dada una tupla de tuplas con numeros, produzca una tupla\n",
    "con el promedio de cada tupla individual. Tomar nota del siguiente ejemplo:\n",
    "Si la tupla de entrada fuera: ((10, 10, 10, 12), (30, 45, 56, 45), (81, 80, 39, 32))\n",
    "El resultado deber´ıa ser: (10.5, 44, 58)"
   ]
  },
  {
   "cell_type": "code",
   "execution_count": 12,
   "metadata": {},
   "outputs": [
    {
     "data": {
      "text/plain": [
       "[10.5, 44.0, 58.0]"
      ]
     },
     "execution_count": 12,
     "metadata": {},
     "output_type": "execute_result"
    }
   ],
   "source": [
    "def promedio_tuplas(lista_de_tuplas):\n",
    "    # Creamos una lista para almacenar los promedios\n",
    "    promedios = []\n",
    "\n",
    "     # Recorremos cada tupla en la lista de tuplas\n",
    "    for tupla in lista_de_tuplas:\n",
    "        suma = sum(tupla)\n",
    "        promedio = suma/len(tupla)\n",
    "        # Añadimos el promedio a la lista de promedios\n",
    "        promedios.append(promedio)\n",
    "     # Convertimos la lista de promedios a una tupla y la devolvemos\n",
    "    return promedios# OJO ACA, la indentacion es importante, porque si ponemos la identacion debajo de promedios, \n",
    "#Cuando se ejecuta return, la función termina inmediatamente. El bucle for no continúa con las demás tuplas. \n",
    "#EN CAMBIO SI LO PONEMOS DEBAJO DEL FOR, TODO EL CUERPO DEL FOR RECORRE TODAS LAS TUPLAS Y CUANDO TERMINA, DEVUELVE LA LISTA PROMEDIOS QUE YA\n",
    "#FUE INGESTADA POR LOS CICLOS Y EVALAUCINES DEL FOR \n",
    "\n",
    "# Ejemplo de uso\n",
    "lista_tuplas = [(10, 10, 10, 12), (30, 45, 56, 45), (81, 80, 39, 32)]\n",
    "promedio_tuplas(lista_tuplas)\n",
    "\n"
   ]
  },
  {
   "cell_type": "markdown",
   "metadata": {},
   "source": [
    "8. El objetivo es crear una representaci´on de un libro usando programaci´on orientada a objetos.\n",
    "Debes definir una clase llamada Libro que tenga atributos como el t´ıtulo, el autor, el n´umero\n",
    "de p´aginas y un indicador de si el libro ha sido le´ıdo o no. Adem´as, debes implementar m´etodos\n",
    "para:\n",
    "Inicializar un nuevo libro con su informaci´on.\n",
    "Marcar un libro como le´ıdo.\n",
    "Producir una descripci´on legible del libro que incluya todos sus detalles.\n"
   ]
  },
  {
   "cell_type": "code",
   "execution_count": 13,
   "metadata": {},
   "outputs": [
    {
     "name": "stdout",
     "output_type": "stream",
     "text": [
      "\n",
      "        Título: Cien años de soledad\n",
      "        Autor: Gabriel García Márquez\n",
      "        Número de páginas: 432\n",
      "        Estado: no leído\n",
      "        \n",
      "El libro ha sido marcado como leído.\n",
      "\n",
      "Descripción después de marcar como leído:\n",
      "\n",
      "        Título: Cien años de soledad\n",
      "        Autor: Gabriel García Márquez\n",
      "        Número de páginas: 432\n",
      "        Estado: leído\n",
      "        \n"
     ]
    }
   ],
   "source": [
    "class Libro:\n",
    "    def __init__(self, titulo, autor, num_pags):\n",
    "        # Inicializar los atributos del libro\n",
    "        self.titulo = titulo\n",
    "        self.autor = autor\n",
    "        self.num_pags = num_pags\n",
    "        self.leido = False  # Por defecto, el libro no ha sido leído\n",
    "\n",
    "    def marcar_como_leido(self):\n",
    "        # Marcar el libro como leído\n",
    "        if self.leido:\n",
    "            print(\"El libro ya ha sido leído.\")\n",
    "        else:\n",
    "            self.leido = True\n",
    "            print(\"El libro ha sido marcado como leído.\")\n",
    "\n",
    "    def descripcion(self):\n",
    "        # Crear una descripción legible del libro\n",
    "        estado = \"leído\" if self.leido else \"no leído\"\n",
    "        print(f\"\"\"\n",
    "        Título: {self.titulo}\n",
    "        Autor: {self.autor}\n",
    "        Número de páginas: {self.num_pags}\n",
    "        Estado: {estado}\n",
    "        \"\"\")\n",
    "\n",
    "\n",
    "# Ejemplo de uso\n",
    "libro1 = Libro(\"Cien años de soledad\", \"Gabriel García Márquez\", 432)\n",
    "\n",
    "# Mostrar la descripción inicial del libro\n",
    "libro1.descripcion()\n",
    "\n",
    "# Marcar el libro como leído\n",
    "libro1.marcar_como_leido()\n",
    "\n",
    "# Mostrar la descripción actualizada\n",
    "print(\"\\nDescripción después de marcar como leído:\")\n",
    "libro1.descripcion()"
   ]
  },
  {
   "cell_type": "markdown",
   "metadata": {},
   "source": [
    "9. Cree una clase llamada Circulo con un atributo para el radio del c´ırculo. Luego, implementar´as\n",
    "m´etodos para:\n",
    "Inicializar un nuevo c´ırculo con su radio.\n",
    "Calcular el ´area del c´ırculo.\n",
    "Calcular la circunferencia del c´ırculo"
   ]
  },
  {
   "cell_type": "code",
   "execution_count": 16,
   "metadata": {},
   "outputs": [
    {
     "name": "stdout",
     "output_type": "stream",
     "text": [
      "El área del círculo es: 78.53999999999999\n"
     ]
    }
   ],
   "source": [
    "class Circulo:\n",
    "    def __init__(self, radio):\n",
    "        self.radio = radio\n",
    "        self.pi = 3.1416\n",
    "\n",
    "    def area(self):\n",
    "        area = self.pi * (self.radio ** 2)  \n",
    "        return area \n",
    "\n",
    "    def circunferencia(self):\n",
    "        circunferencia = 2 * self.pi * self.radio\n",
    "        return circunferencia\n",
    "    \n",
    "# Crear una instancia de la clase Círculo\n",
    "mi_circulo = Circulo(5)\n",
    "\n",
    "# Llamar al método \n",
    "area_micirculo = mi_circulo.area()\n",
    "print(\"El área del círculo es:\", area_micirculo)\n"
   ]
  }
 ],
 "metadata": {
  "kernelspec": {
   "display_name": "venr_ugal_test",
   "language": "python",
   "name": "python3"
  },
  "language_info": {
   "codemirror_mode": {
    "name": "ipython",
    "version": 3
   },
   "file_extension": ".py",
   "mimetype": "text/x-python",
   "name": "python",
   "nbconvert_exporter": "python",
   "pygments_lexer": "ipython3",
   "version": "3.12.8"
  }
 },
 "nbformat": 4,
 "nbformat_minor": 2
}
