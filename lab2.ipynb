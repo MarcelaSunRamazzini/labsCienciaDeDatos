{
 "cells": [
  {
   "cell_type": "markdown",
   "metadata": {},
   "source": [
    "1. Desarrolle una función que reciba 3 numero desde el \n",
    "usuario, y determine si uno de los números es la suma de \n",
    "los otros dos, su función debe estar correctamente \n",
    "documentada con docstrings y tipos de datos tanto para \n",
    "las entradas como para la salida, además deberá probar el \n",
    "funcionamiento de su función con 3 casos diferentes donde \n",
    "el programa le solicite al usuario el ingreso de esos 3 \n",
    "casos. Finalmente deberá considerar el manejo de \n",
    "excepciones para el ingreso de datos incorrectos, por \n",
    "ejemplo si un usuario ingresa letras y no numeros."
   ]
  },
  {
   "cell_type": "code",
   "execution_count": 6,
   "metadata": {},
   "outputs": [
    {
     "name": "stdout",
     "output_type": "stream",
     "text": [
      "True\n",
      "False\n",
      "True\n"
     ]
    }
   ],
   "source": [
    "def funcion (num1: int, num2: int, num3: int) -> bool:\n",
    "    \"\"\"Determina si uno de los tres números es la suma de los otros dos.\n",
    "\n",
    "    Args:\n",
    "        num1 (int): Primer Numero\n",
    "        num2 (int): Segundo Numero\n",
    "        num3 (int): Tercer Numero \n",
    "\n",
    "    Returns:\n",
    "        bool: True si uno de los números es la suma de los otros dos, False en caso contrario.\n",
    "    \"\"\"\n",
    "    if num1== num2 + num3:\n",
    "        return True\n",
    "    elif num2 == num1+ num3:\n",
    "         return True\n",
    "    elif num3 == num1 +num2:\n",
    "        return True \n",
    "    else:\n",
    "        return False\n",
    "\n",
    "\n",
    "print(funcion(2,2,4))\n",
    "print(funcion(1,1,1))\n",
    "print(funcion(3,3,6))"
   ]
  },
  {
   "cell_type": "markdown",
   "metadata": {},
   "source": [
    "2) Desarrolle una función la cual reciba una categoría y el \n",
    "sueldo de un empleado, luego su programa debe determinar \n",
    "cual es el aumento salarial que esta persona debe recibir \n",
    "en base a la siguiente tabla. Su función debe estar \n",
    "correctamente documentada con docstrings y tipos de datos \n",
    "tanto para las entradas como para la salida, además deberá \n",
    "probar el funcionamiento de su función con 3 casos \n",
    "diferentes donde el programa le solicite al usuario el \n",
    "ingreso de esos 3 casos. Finalmente deberá considerar el \n",
    "manejo de excepciones para el ingreso de datos \n",
    "incorrectos, por ejemplo si un usuario ingresa letras y \n",
    "no numeros"
   ]
  },
  {
   "cell_type": "code",
   "execution_count": 13,
   "metadata": {},
   "outputs": [
    {
     "name": "stdout",
     "output_type": "stream",
     "text": [
      "115.0\n",
      "1100.0\n",
      "10800.0\n"
     ]
    }
   ],
   "source": [
    "aumento_cat1 = 0.15\n",
    "aumeto_cat2 = 0.10\n",
    "aumeto_cat3 = 0.08\n",
    "aumento_cat4 = 0.07\n",
    "\n",
    "def aumento_salariar(categoria: int, sueldo: int):\n",
    "    \"\"\"Calcula el aumento salarial de un empleado en base a su categoría.\n",
    "\n",
    "    Args:\n",
    "    categoria (int): La categoría del empleado (1, 2, 3 o 4).\n",
    "    sueldo (float): El sueldo actual del empleado.\n",
    "\n",
    "    Returns:\n",
    "        int: El monto del aumento salarial.\n",
    "    \"\"\"\n",
    "    if categoria == 1:\n",
    "        return sueldo *aumento_cat1 +sueldo\n",
    "    elif categoria == 2:\n",
    "        return sueldo *aumeto_cat2 +sueldo\n",
    "    elif categoria == 3:\n",
    "        return sueldo *aumeto_cat3 +sueldo\n",
    "    elif categoria == 4:\n",
    "        return sueldo *aumento_cat4 +sueldo\n",
    "    else:\n",
    "        return 0.0  # Si la categoría no es válida, no hay aumento.\n",
    "\n",
    "print(aumento_salariar(1,100))\n",
    "print(aumento_salariar(2,1000))\n",
    "print(aumento_salariar(3,10000))"
   ]
  },
  {
   "cell_type": "markdown",
   "metadata": {},
   "source": [
    "3) Desarrolle el código el cual lea dos números \n",
    "reales y una operación (SUMA – suma, RESTA –\n",
    "resta, MULTIPLICACION – multiplicación, DIVISION \n",
    "– división) y luego calcule el resultado de \n",
    "realizar la operación con los dos números de \n",
    "entrada, para este ejercicio debe realizar un menú \n",
    "que permita seleccionar la operación que deseamos \n",
    "realizar. Su código debe estar correctamente documentada \n",
    "con docstrings y tipos de datos tanto para las entradas \n",
    "como para la salida, además deberá probar el \n",
    "funcionamiento de su función con 3 casos diferentes donde \n",
    "el programa le solicite al usuario el ingreso de esos 3 \n",
    "casos. Finalmente deberá considerar el manejo de \n",
    "excepciones para el ingreso de datos incorrectos, por \n",
    "ejemplo si un usuario ingresa letras y no numeros."
   ]
  },
  {
   "cell_type": "code",
   "execution_count": null,
   "metadata": {},
   "outputs": [
    {
     "name": "stdout",
     "output_type": "stream",
     "text": [
      "5\n",
      "2\n",
      "18\n"
     ]
    }
   ],
   "source": [
    "def operacion(num1: int, num2: int) -> float:\n",
    "    \"\"\"Calcula el resultado de una operación entre dos números.\n",
    "\n",
    "\n",
    "    Args:\n",
    "    num1 (float): Primer número.\n",
    "    num2 (float): Segundo número.\n",
    "    operacion (str): Operación a realizar (SUMA, RESTA, MULTIPLICACION, DIVISION).\n",
    "\n",
    "    Returns:\n",
    "        float: El resultado de la operación.\n",
    "    \"\"\"\n",
    "    operacion_mat = input(\"Especifique que operacion matematica quiere realizar, opciones: SUMA, RESTA, MULTIPLICACION, DIVISION:\")\n",
    "    if operacion_mat == \"SUMA\":\n",
    "        return num1 +num2\n",
    "    elif operacion_mat == \"RESTA\":\n",
    "        return num1 - num2\n",
    "    elif operacion_mat == \"MULTIPLICACION\":\n",
    "        return num1 * num2\n",
    "    elif operacion_mat == \"DIVISION\":\n",
    "        return num1 / num2\n",
    "    else:\n",
    "        print(\"No ingreso una operacion correcta\")\n",
    "\n",
    "print(operacion(2,3)) #SUMA\n",
    "print(operacion(5,3)) #RESTA\n",
    "print(operacion(6,3)) #MULTIPLICACION"
   ]
  },
  {
   "cell_type": "markdown",
   "metadata": {},
   "source": [
    "4) Desarrolle una función que devuelva verdadero si un número \n",
    "entero que recibe como parámetro es primo y devuelva falso \n",
    "en el caso contrario. Su función debe estar correctamente \n",
    "documentada con docstrings y tipos de datos tanto para \n",
    "las entradas como para la salida, además deberá probar el \n",
    "funcionamiento de su función con 3 casos diferentes donde \n",
    "el programa le solicite al usuario el ingreso de esos 3 \n",
    "casos. Finalmente deberá considerar el manejo de \n",
    "excepciones para el ingreso de datos incorrectos, por \n",
    "ejemplo si un usuario ingresa letras y no numeros."
   ]
  },
  {
   "cell_type": "code",
   "execution_count": 23,
   "metadata": {},
   "outputs": [
    {
     "name": "stdout",
     "output_type": "stream",
     "text": [
      "False\n",
      "True\n",
      "True\n"
     ]
    }
   ],
   "source": [
    "def es_primo(numero: int) -> bool:\n",
    "    \"\"\"\n",
    "    Determina si un número entero es primo.\n",
    "\n",
    "    Args:\n",
    "        numero (int): El número entero a verificar.\n",
    "\n",
    "    Returns:\n",
    "        bool: True si el número es primo, False en caso contrario.\n",
    "    \"\"\"\n",
    "    # Números menores o iguales a 1 no son primos\n",
    "    if numero <= 1:\n",
    "        return False\n",
    "    # Verificar divisibilidad desde 2 hasta la mitad del número\n",
    "    for i in range(2, numero // 2 + 1):\n",
    "        if numero % i == 0:\n",
    "            return False\n",
    "    return True\n",
    "\n",
    "\n",
    "def probar_casos():\n",
    "    \"\"\"\n",
    "    Prueba la función es_primo con 3 casos diferentes.\n",
    "    \"\"\"\n",
    "    print(\"=== Prueba de la función es_primo ===\")\n",
    "    for i in range(3):\n",
    "        try:\n",
    "            numero = int(input(f\"Ingresa el número {i + 1}: \"))\n",
    "            if es_primo(numero):\n",
    "                print(f\"El número {numero} es primo.\")\n",
    "            else:\n",
    "                print(f\"El número {numero} no es primo.\")\n",
    "        except ValueError:\n",
    "            print(\"Error: Debes ingresar un número entero válido. Inténtalo de nuevo.\\n\")\n",
    "\n",
    "\n",
    "print(es_primo(-1))\n",
    "print(es_primo(5))\n",
    "print(es_primo(3))"
   ]
  },
  {
   "cell_type": "markdown",
   "metadata": {},
   "source": [
    "5. Haga un programa en Python que reciba como parámetro un \n",
    "número de segundos y despliegue en pantalla las horas, \n",
    "minutos y segundos que representan.\n",
    "Ejemplo:\n",
    "a. Si el número de segundos es 2743:\n",
    "Horas: 0\n",
    "Minutos: 45\n",
    "Segundos: 43\n",
    "b. Si el número de segundos es 5871:\n",
    "Horas: 1\n",
    "Minutos: 37\n",
    "Segundos: 51\n",
    "Además, escriba una regla que lea los segundos desde el \n",
    "teclado y llame a la función anterior. Su función debe \n",
    "estar correctamente documentada con docstrings y tipos de \n",
    "datos tanto para las entradas como para la salida, además \n",
    "deberá probar el funcionamiento de su función con 3 casos \n",
    "diferentes donde el programa le solicite al usuario el \n",
    "ingreso de esos 3 casos. Finalmente deberá considerar el \n",
    "manejo de excepciones para el ingreso de datos \n",
    "incorrectos, por ejemplo si un usuario ingresa letras y \n",
    "no numeros."
   ]
  },
  {
   "cell_type": "code",
   "execution_count": 28,
   "metadata": {},
   "outputs": [
    {
     "name": "stdout",
     "output_type": "stream",
     "text": [
      "Horas: 0\n",
      "Minutos: 45\n",
      "Segundos: 43\n",
      "None\n",
      "Horas: 1\n",
      "Minutos: 37\n",
      "Segundos: 51\n",
      "None\n",
      "Horas: 0\n",
      "Minutos: 20\n",
      "Segundos: 12\n",
      "None\n"
     ]
    }
   ],
   "source": [
    "def calculadora_tiempo(segundos_totales: int):\n",
    "    \"\"\"\n",
    "    Convierte un número de segundos en horas, minutos y segundos.\n",
    "\n",
    "    Args:\n",
    "        segundos_totales (int): El número total de segundos a convertir.\n",
    "    \"\"\"\n",
    "    # Calcular horas\n",
    "    horas = segundos_totales // 3600  # División entera para obtener las horas completas\n",
    "    # Calcular segundos restantes después de obtener las horas\n",
    "    segundos_restantes = segundos_totales % 3600\n",
    "    # Calcular minutos\n",
    "    minutos = segundos_restantes // 60  # División entera para obtener los minutos completos\n",
    "    # Calcular segundos finales\n",
    "    segundos = segundos_restantes % 60  # Resto para obtener los segundos\n",
    "\n",
    "    # Mostrar el resultado\n",
    "    print(f\"Horas: {horas}\")\n",
    "    print(f\"Minutos: {minutos}\")\n",
    "    print(f\"Segundos: {segundos}\")\n",
    "\n",
    "\n",
    "\n",
    "print(calculadora_tiempo(2743))\n",
    "print(calculadora_tiempo(5871))\n",
    "print(calculadora_tiempo(1212))\n",
    "\n"
   ]
  },
  {
   "cell_type": "markdown",
   "metadata": {},
   "source": [
    "6) Haga código que permita ingresar las calificaciones de \n",
    "una evaluación del curso de Ciencia de Datos en Python. \n",
    "El programa debe desplegar un mensaje en función de la \n",
    "nota ingresada. Si la calificación es menor a 71, calcule \n",
    "la diferencia entre la nota de aprobación y la \n",
    "calificación ingresada.\n",
    "Mensajes según la nota:\n",
    "• INSUFICIENTE: nota < 50\n",
    "• REGULAR: 50 ≤ nota ≤ 60\n",
    "• BIEN: 60 < nota ≤ 70\n",
    "• MUY BIEN: 70 < nota ≤ 90\n",
    "• SOBRESALIENTE: 90 < nota ≤ 100\n",
    "Su programa debe estar correctamente documentado si \n",
    "utiliza funciones deberá agregar docstrings y tipos de \n",
    "datos tanto para las entradas como para la salida, además \n",
    "deberá probar el funcionamiento de su función con 3 casos \n",
    "diferentes donde el programa le solicite al usuario el \n",
    "ingreso de esos 3 casos. Finalmente deberá considerar el \n",
    "manejo de excepciones para el ingreso de datos \n",
    "incorrectos, por ejemplo si un usuario ingresa letras y \n",
    "no numeros.\n"
   ]
  },
  {
   "cell_type": "code",
   "execution_count": 35,
   "metadata": {},
   "outputs": [
    {
     "name": "stdout",
     "output_type": "stream",
     "text": [
      "rango: MUY BIEN\n",
      "mensaje: aprobo por 9 puntos\n",
      "rango: INSUFICIENTE\n",
      "mensaje: no aprobo el examen por -31 puntos\n",
      "rango: SOBRESALIENTE\n",
      "mensaje: aprobo por 29 puntos\n"
     ]
    }
   ],
   "source": [
    "nota_aprobacion = 71 \n",
    "def calificaciones(nota: int) -> float:\n",
    "    \"\"\"\n",
    "    Evalúa la nota ingresada y retorna el rango de la nota y un mensaje sobre la diferencia con la nota de aprobación.\n",
    "\n",
    "    Args:\n",
    "        nota (int): La calificación del estudiante.\n",
    "\n",
    "    Returns:\n",
    "        mensaje y rango\n",
    "    \"\"\"\n",
    "    if nota < 50:\n",
    "        rango = \"INSUFICIENTE\"\n",
    "    elif 50 <= nota <= 60:\n",
    "        rango =  \"REGULAR\"\n",
    "    elif 60 < nota <= 70:\n",
    "        rango = \"BIEN\"\n",
    "    elif 70 < nota <= 90:\n",
    "        rango = \"MUY BIEN\"\n",
    "    elif 90 < nota <= 100:\n",
    "        rango = \"SOBRESALIENTE\"\n",
    "    else:\n",
    "        rango= \"Nota fuera de rango (debe ser entre 0 y 100).\"\n",
    "    diferencia_nota = nota - nota_aprobacion\n",
    "    if diferencia_nota > 0:\n",
    "        mensaje = (f\"aprobo por {diferencia_nota} puntos\")\n",
    "    else:\n",
    "        mensaje = (f\"no aprobo el examen por {diferencia_nota} puntos\")\n",
    "\n",
    "    return rango, mensaje\n",
    "\n",
    "nota = 80\n",
    "rango, mensaje = calificaciones(nota)\n",
    "print(f\"rango: {rango}\")\n",
    "print(f\"mensaje: {mensaje}\")\n",
    "\n",
    "nota =40\n",
    "rango, mensaje = calificaciones(nota)\n",
    "print(f\"rango: {rango}\")\n",
    "print(f\"mensaje: {mensaje}\")\n",
    "\n",
    "nota = 100\n",
    "rango, mensaje = calificaciones(nota)\n",
    "print(f\"rango: {rango}\")\n",
    "print(f\"mensaje: {mensaje}\")\n",
    "    "
   ]
  },
  {
   "cell_type": "markdown",
   "metadata": {},
   "source": [
    "7) Haga código que dados dos números ingresados por el \n",
    "usuario (el primero mayor que el segundo), calcule y \n",
    "muestre la suma de todos los números comprendidos entre \n",
    "ambos.\n",
    "a. Valide los datos: si el usuario ingresa 1 y 100, el \n",
    "programa debe mostrar un error.\n",
    "Ejemplo:\n",
    "Si los números ingresados son 9 y 5, la respuesta \n",
    "sería 9 + 8 + 7 + 6 + 5 = 35.\n",
    "Utilice un ciclo for para este ejercicio.\n",
    "Su código debe estar correctamente documentado, si utiliza \n",
    "funciones deberá incluir docstrings y tipos de datos tanto \n",
    "para las entradas como para la salida, además deberá \n",
    "probar el funcionamiento de su función con 3 casos \n",
    "diferentes donde el programa le solicite al usuario el \n",
    "ingreso de esos 3 casos. Finalmente deberá considerar el \n",
    "manejo de excepciones para el ingreso de datos \n",
    "incorrectos,"
   ]
  },
  {
   "cell_type": "code",
   "execution_count": 40,
   "metadata": {},
   "outputs": [
    {
     "name": "stdout",
     "output_type": "stream",
     "text": [
      "Lista de números: [9, 8, 7, 6, 5]\n",
      "Suma de los números: 35\n",
      "El primer número que ingresa debe ser mayor al segundo\n",
      "Lista de números: [4]\n",
      "Suma de los números: 4\n"
     ]
    },
    {
     "data": {
      "text/plain": [
       "4"
      ]
     },
     "execution_count": 40,
     "metadata": {},
     "output_type": "execute_result"
    }
   ],
   "source": [
    "def numeros(num1: int, num2: int) -> int:\n",
    "    \"\"\"\n",
    "    Genera una lista de números comprendidos entre num1 y num2, y calcula la suma de esos números.\n",
    "\n",
    "    Args:\n",
    "        num1 (int): El primer número (debe ser mayor que num2).\n",
    "        num2 (int): El segundo número.\n",
    "\n",
    "    Returns:\n",
    "        int: La suma de los números comprendidos entre num1 y num2.\n",
    "    \"\"\"\n",
    "    if num1 < num2:\n",
    "        print(\"El primer número que ingresa debe ser mayor al segundo\")\n",
    "        return  # Salir de la función si no se cumple la condición\n",
    "    else:\n",
    "        lista_rango_numeros = list(range(num1, num2 - 1, -1))  # Generar la lista en orden descendente, le agrego -1 porque el range no incluye el ultimo numero, osea li le doy range(5) va del 0 al 4 \n",
    "        suma = sum(lista_rango_numeros)  # Calcular la suma de los números en la lista\n",
    "        print(f\"Lista de números: {lista_rango_numeros}\")\n",
    "        print(f\"Suma de los números: {suma}\")\n",
    "        return suma  # Retornar la suma\n",
    "    \n",
    "\n",
    "numeros(9,5)\n",
    "numeros(5,9)\n",
    "numeros(4,4)"
   ]
  },
  {
   "cell_type": "markdown",
   "metadata": {},
   "source": [
    "8) Haga código que lea un número mayor que 0 y despliegue \n",
    "todos sus factores.\n",
    "Ejemplo:\n",
    "Ingrese un número: 12\n",
    "Factores: {1, 2, 3, 4, 6, 12}\n",
    "Utilice un ciclo while para este ejercicio.\n",
    "Su código debe estar correctamente documentado, si utiliza \n",
    "funciones deberá incluir docstrings y tipos de datos tanto \n",
    "para las entradas como para la salida, además deberá \n",
    "probar el funcionamiento de su función con 3 casos \n",
    "diferentes donde el programa le solicite al usuario el \n",
    "ingreso de esos 3 casos. Finalmente deberá considerar el \n",
    "manejo de excepciones para el ingreso de datos \n",
    "incorrectos, por ejemplo si un usuario ingresa letras y \n",
    "no numeros"
   ]
  },
  {
   "cell_type": "code",
   "execution_count": 43,
   "metadata": {},
   "outputs": [
    {
     "name": "stdout",
     "output_type": "stream",
     "text": [
      "[1, 2, 3, 4, 6, 12]\n",
      "El numero que ingresaste: -5 es igual o menor que 0\n",
      "None\n",
      "[1, 2, 5, 10, 25, 50]\n"
     ]
    }
   ],
   "source": [
    "\n",
    "def ingrese_numero(num1 : int) -> int:\n",
    "    \"\"\"\n",
    "    Encuentra todos los números que dividen exactamente a num1 (sin residuo).\n",
    "\n",
    "    Args:\n",
    "        num1 (int): El número del cual se desean encontrar los divisores.\n",
    "\n",
    "    Returns:\n",
    "        list: Una lista con todos los divisores de num1.\n",
    "    \"\"\"\n",
    "    if num1 <= 0:\n",
    "        print(f\"El numero que ingresaste: {num1} es igual o menor que 0\")\n",
    "    else:\n",
    "        divisores = []  # Lista para almacenar los divisores\n",
    "        i = 1  # Inicializamos el contador en 1\n",
    "\n",
    "        while i <= num1:\n",
    "            if num1 % i == 0: # ese % me da de una vez el residuo es decir 12/5 = 2.4 , este no es un factor porque el residuo deberia de dar 0, como ej: 12/4 = 3, su residuo es 0\n",
    "                divisores.append(i) # aca le metemos i, pirque si cumple con la condicion de == 0, quiere decir que ese numero que divide es un factor , porque los factores se caracterizan por dar 0 en su residuo\n",
    "            i +=1 # leugo le sumo 1 para que realice el procedimiento con el siguiente numero y evalue o no si es un facor\n",
    "\n",
    "        return divisores # la respuesta sera la lista de los facotres del numero que se ingresen \n",
    "\n",
    "print(ingrese_numero(12))\n",
    "print(ingrese_numero(-5))\n",
    "print(ingrese_numero(50))"
   ]
  },
  {
   "cell_type": "markdown",
   "metadata": {},
   "source": [
    "9) Haga un programa que, dada la fecha de nacimiento de una \n",
    "persona (ingresada por separado: día, mes y año), \n",
    "despliegue la edad de la persona en años, meses y días, \n",
    "el resultado puede ser aproximado. Su código debe estar \n",
    "correctamente documentado, si utiliza funciones deberá \n",
    "incluir docstrings y tipos de datos tanto para las \n",
    "entradas como para la salida, además deberá probar el \n",
    "funcionamiento de su función con 3 casos diferentes donde \n",
    "el programa le solicite al usuario el ingreso de esos 3 \n",
    "casos. Finalmente deberá considerar el manejo de \n",
    "excepciones para el ingreso de datos incorrectos, por \n",
    "ejemplo si un usuario ingresa letras y no numeros."
   ]
  },
  {
   "cell_type": "code",
   "execution_count": 54,
   "metadata": {},
   "outputs": [
    {
     "name": "stdout",
     "output_type": "stream",
     "text": [
      "Edad: Años: 25, Meses: 3, Días: 9\n",
      "Edad: Años: 33, Meses: 1, Días: 8\n",
      "Edad: Años: 27, Meses: 5, Días: 12\n"
     ]
    }
   ],
   "source": [
    "from datetime import datetime\n",
    "\n",
    "def fecha_nacimiento(dia: int, mes: int, año: int) -> tuple[int, int, int]:\n",
    "    \"\"\"\n",
    "    Calcula la edad en años, meses y días a partir de la fecha de nacimiento.\n",
    "\n",
    "    Args:\n",
    "        dia (int): Día de nacimiento.\n",
    "        mes (int): Mes de nacimiento.\n",
    "        año (int): Año de nacimiento.\n",
    "\n",
    "    Returns:\n",
    "        tuple[int, int, int]: Una tupla con la edad en años, meses y días.\n",
    "    \"\"\"\n",
    "    # Obtener la fecha actual\n",
    "    hoy = datetime.now()\n",
    "    fecha_actual = [hoy.day, hoy.month, hoy.year]  # [día, mes, año]\n",
    "\n",
    "    # Calcular la diferencia en años, meses y días\n",
    "    diacalculo = fecha_actual[0] - dia  # Diferencia en días\n",
    "    mescalculo = fecha_actual[1] - mes  # Diferencia en meses\n",
    "    añocalculo = fecha_actual[2] - año  # Diferencia en años\n",
    "\n",
    "    # Ajustar la edad si el mes o el día aún no han llegado\n",
    "    if mescalculo < 0 or (mescalculo == 0 and diacalculo < 0):\n",
    "        añocalculo -= 1  # Restar un año si aún no ha cumplido años\n",
    "        mescalculo += 12  # Ajustar los meses\n",
    "\n",
    "    if diacalculo < 0:\n",
    "        # Calcular los días restantes del mes anterior\n",
    "        ultimo_dia_mes_anterior = (hoy.replace(day=1) - timedelta(days=1)).day\n",
    "        diacalculo += ultimo_dia_mes_anterior\n",
    "        mescalculo -= 1  # Restar un mes\n",
    "\n",
    "    return añocalculo, mescalculo, diacalculo\n",
    "\n",
    "\n",
    "\n",
    "dia_nac = 12\n",
    "mes_nac = 11\n",
    "año_nac = 1999\n",
    "\n",
    "años, meses, dias = fecha_nacimiento(dia_nac, mes_nac, año_nac)\n",
    "print(f\"Edad: Años: {años}, Meses: {meses}, Días: {dias}\")\n",
    "\n",
    "dia_nac = 13\n",
    "mes_nac = 1\n",
    "año_nac = 1992\n",
    "\n",
    "años, meses, dias = fecha_nacimiento(dia_nac, mes_nac, año_nac)\n",
    "print(f\"Edad: Años: {años}, Meses: {meses}, Días: {dias}\")\n",
    "\n",
    "dia_nac = 9\n",
    "mes_nac = 9\n",
    "año_nac = 1997\n",
    "\n",
    "años, meses, dias = fecha_nacimiento(dia_nac, mes_nac, año_nac)\n",
    "print(f\"Edad: Años: {años}, Meses: {meses}, Días: {dias}\")"
   ]
  },
  {
   "cell_type": "code",
   "execution_count": null,
   "metadata": {},
   "outputs": [],
   "source": []
  }
 ],
 "metadata": {
  "kernelspec": {
   "display_name": "venr_ugal_test",
   "language": "python",
   "name": "python3"
  },
  "language_info": {
   "codemirror_mode": {
    "name": "ipython",
    "version": 3
   },
   "file_extension": ".py",
   "mimetype": "text/x-python",
   "name": "python",
   "nbconvert_exporter": "python",
   "pygments_lexer": "ipython3",
   "version": "3.12.8"
  }
 },
 "nbformat": 4,
 "nbformat_minor": 2
}
